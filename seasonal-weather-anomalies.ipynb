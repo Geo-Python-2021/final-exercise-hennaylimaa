{
 "cells": [
  {
   "cell_type": "markdown",
   "metadata": {},
   "source": [
    "1. Read in the provided data file using pandas and convert missing data to NA values."
   ]
  },
  {
   "cell_type": "code",
   "execution_count": 157,
   "metadata": {},
   "outputs": [
    {
     "name": "stdout",
     "output_type": "stream",
     "text": [
      "Length of data before remove of null values: 41065\n"
     ]
    }
   ],
   "source": [
    "import pandas as pd\n",
    "import numpy as np\n",
    "import matplotlib.pyplot as plt\n",
    "from datetime import datetime\n",
    "\n",
    "data = pd.read_csv(\"~/work/exercises/final-exercise-hennaylimaa/data/2315676.txt\", na_values=-9999, skiprows=[1], delim_whitespace=True)\n",
    "\n",
    "print(\"Length of data before remove of null values:\", data.shape[0])"
   ]
  },
  {
   "cell_type": "markdown",
   "metadata": {},
   "source": [
    "2. Fill in the missing values in the `TAVG` column with your estimates of the average daily temperature as noted above in the data section. You can then drop any average daily temperatures that are still missing."
   ]
  },
  {
   "cell_type": "code",
   "execution_count": 158,
   "metadata": {},
   "outputs": [
    {
     "name": "stdout",
     "output_type": "stream",
     "text": [
      "Length of data after remove of null values: 40882\n"
     ]
    },
    {
     "data": {
      "text/html": [
       "<div>\n",
       "<style scoped>\n",
       "    .dataframe tbody tr th:only-of-type {\n",
       "        vertical-align: middle;\n",
       "    }\n",
       "\n",
       "    .dataframe tbody tr th {\n",
       "        vertical-align: top;\n",
       "    }\n",
       "\n",
       "    .dataframe thead th {\n",
       "        text-align: right;\n",
       "    }\n",
       "</style>\n",
       "<table border=\"1\" class=\"dataframe\">\n",
       "  <thead>\n",
       "    <tr style=\"text-align: right;\">\n",
       "      <th></th>\n",
       "      <th>STATION</th>\n",
       "      <th>STATION_NAME</th>\n",
       "      <th>DATE</th>\n",
       "      <th>TAVG</th>\n",
       "      <th>TMAX</th>\n",
       "      <th>TMIN</th>\n",
       "      <th>AVG</th>\n",
       "    </tr>\n",
       "  </thead>\n",
       "  <tbody>\n",
       "    <tr>\n",
       "      <th>0</th>\n",
       "      <td>GHCND:FI000007501</td>\n",
       "      <td>SODANKYLA-AWS-FI</td>\n",
       "      <td>19080101</td>\n",
       "      <td>-17.5</td>\n",
       "      <td>2.0</td>\n",
       "      <td>-37.0</td>\n",
       "      <td>-17.5</td>\n",
       "    </tr>\n",
       "    <tr>\n",
       "      <th>1</th>\n",
       "      <td>GHCND:FI000007501</td>\n",
       "      <td>SODANKYLA-AWS-FI</td>\n",
       "      <td>19080102</td>\n",
       "      <td>-10.0</td>\n",
       "      <td>6.0</td>\n",
       "      <td>-26.0</td>\n",
       "      <td>-10.0</td>\n",
       "    </tr>\n",
       "    <tr>\n",
       "      <th>2</th>\n",
       "      <td>GHCND:FI000007501</td>\n",
       "      <td>SODANKYLA-AWS-FI</td>\n",
       "      <td>19080103</td>\n",
       "      <td>-10.0</td>\n",
       "      <td>7.0</td>\n",
       "      <td>-27.0</td>\n",
       "      <td>-10.0</td>\n",
       "    </tr>\n",
       "    <tr>\n",
       "      <th>3</th>\n",
       "      <td>GHCND:FI000007501</td>\n",
       "      <td>SODANKYLA-AWS-FI</td>\n",
       "      <td>19080104</td>\n",
       "      <td>-15.0</td>\n",
       "      <td>-3.0</td>\n",
       "      <td>-27.0</td>\n",
       "      <td>-15.0</td>\n",
       "    </tr>\n",
       "    <tr>\n",
       "      <th>4</th>\n",
       "      <td>GHCND:FI000007501</td>\n",
       "      <td>SODANKYLA-AWS-FI</td>\n",
       "      <td>19080105</td>\n",
       "      <td>-16.0</td>\n",
       "      <td>4.0</td>\n",
       "      <td>-36.0</td>\n",
       "      <td>-16.0</td>\n",
       "    </tr>\n",
       "  </tbody>\n",
       "</table>\n",
       "</div>"
      ],
      "text/plain": [
       "             STATION      STATION_NAME      DATE  TAVG  TMAX  TMIN   AVG\n",
       "0  GHCND:FI000007501  SODANKYLA-AWS-FI  19080101 -17.5   2.0 -37.0 -17.5\n",
       "1  GHCND:FI000007501  SODANKYLA-AWS-FI  19080102 -10.0   6.0 -26.0 -10.0\n",
       "2  GHCND:FI000007501  SODANKYLA-AWS-FI  19080103 -10.0   7.0 -27.0 -10.0\n",
       "3  GHCND:FI000007501  SODANKYLA-AWS-FI  19080104 -15.0  -3.0 -27.0 -15.0\n",
       "4  GHCND:FI000007501  SODANKYLA-AWS-FI  19080105 -16.0   4.0 -36.0 -16.0"
      ]
     },
     "execution_count": 158,
     "metadata": {},
     "output_type": "execute_result"
    }
   ],
   "source": [
    "data[\"AVG\"] = (data['TMAX'] + data['TMIN']) / 2 #data[['TMAX', 'TMIN']].mean(axis=1)\n",
    "data.loc[data['TAVG'].isna() == True, 'TAVG'] = data['AVG']\n",
    "data = data.dropna(subset=['TAVG'])\n",
    "\n",
    "print(\"Length of data after remove of null values:\", data.shape[0])\n",
    "data.head()"
   ]
  },
  {
   "cell_type": "markdown",
   "metadata": {},
   "source": [
    "3. Define and use a function to convert temperatures in Fahrenheit to Celsius."
   ]
  },
  {
   "cell_type": "code",
   "execution_count": 159,
   "metadata": {},
   "outputs": [
    {
     "data": {
      "text/html": [
       "<div>\n",
       "<style scoped>\n",
       "    .dataframe tbody tr th:only-of-type {\n",
       "        vertical-align: middle;\n",
       "    }\n",
       "\n",
       "    .dataframe tbody tr th {\n",
       "        vertical-align: top;\n",
       "    }\n",
       "\n",
       "    .dataframe thead th {\n",
       "        text-align: right;\n",
       "    }\n",
       "</style>\n",
       "<table border=\"1\" class=\"dataframe\">\n",
       "  <thead>\n",
       "    <tr style=\"text-align: right;\">\n",
       "      <th></th>\n",
       "      <th>STATION</th>\n",
       "      <th>STATION_NAME</th>\n",
       "      <th>DATE</th>\n",
       "      <th>TAVG</th>\n",
       "      <th>TMAX</th>\n",
       "      <th>TMIN</th>\n",
       "      <th>AVG</th>\n",
       "      <th>TAVG_C</th>\n",
       "      <th>TMAX_C</th>\n",
       "      <th>TMIN_C</th>\n",
       "      <th>AVG_C</th>\n",
       "    </tr>\n",
       "  </thead>\n",
       "  <tbody>\n",
       "    <tr>\n",
       "      <th>0</th>\n",
       "      <td>GHCND:FI000007501</td>\n",
       "      <td>SODANKYLA-AWS-FI</td>\n",
       "      <td>19080101</td>\n",
       "      <td>-17.5</td>\n",
       "      <td>2.0</td>\n",
       "      <td>-37.0</td>\n",
       "      <td>-17.5</td>\n",
       "      <td>-27.500000</td>\n",
       "      <td>-16.666667</td>\n",
       "      <td>-38.333333</td>\n",
       "      <td>-27.500000</td>\n",
       "    </tr>\n",
       "    <tr>\n",
       "      <th>1</th>\n",
       "      <td>GHCND:FI000007501</td>\n",
       "      <td>SODANKYLA-AWS-FI</td>\n",
       "      <td>19080102</td>\n",
       "      <td>-10.0</td>\n",
       "      <td>6.0</td>\n",
       "      <td>-26.0</td>\n",
       "      <td>-10.0</td>\n",
       "      <td>-23.333333</td>\n",
       "      <td>-14.444444</td>\n",
       "      <td>-32.222222</td>\n",
       "      <td>-23.333333</td>\n",
       "    </tr>\n",
       "    <tr>\n",
       "      <th>2</th>\n",
       "      <td>GHCND:FI000007501</td>\n",
       "      <td>SODANKYLA-AWS-FI</td>\n",
       "      <td>19080103</td>\n",
       "      <td>-10.0</td>\n",
       "      <td>7.0</td>\n",
       "      <td>-27.0</td>\n",
       "      <td>-10.0</td>\n",
       "      <td>-23.333333</td>\n",
       "      <td>-13.888889</td>\n",
       "      <td>-32.777778</td>\n",
       "      <td>-23.333333</td>\n",
       "    </tr>\n",
       "    <tr>\n",
       "      <th>3</th>\n",
       "      <td>GHCND:FI000007501</td>\n",
       "      <td>SODANKYLA-AWS-FI</td>\n",
       "      <td>19080104</td>\n",
       "      <td>-15.0</td>\n",
       "      <td>-3.0</td>\n",
       "      <td>-27.0</td>\n",
       "      <td>-15.0</td>\n",
       "      <td>-26.111111</td>\n",
       "      <td>-19.444444</td>\n",
       "      <td>-32.777778</td>\n",
       "      <td>-26.111111</td>\n",
       "    </tr>\n",
       "    <tr>\n",
       "      <th>4</th>\n",
       "      <td>GHCND:FI000007501</td>\n",
       "      <td>SODANKYLA-AWS-FI</td>\n",
       "      <td>19080105</td>\n",
       "      <td>-16.0</td>\n",
       "      <td>4.0</td>\n",
       "      <td>-36.0</td>\n",
       "      <td>-16.0</td>\n",
       "      <td>-26.666667</td>\n",
       "      <td>-15.555556</td>\n",
       "      <td>-37.777778</td>\n",
       "      <td>-26.666667</td>\n",
       "    </tr>\n",
       "  </tbody>\n",
       "</table>\n",
       "</div>"
      ],
      "text/plain": [
       "             STATION      STATION_NAME      DATE  TAVG  TMAX  TMIN   AVG  \\\n",
       "0  GHCND:FI000007501  SODANKYLA-AWS-FI  19080101 -17.5   2.0 -37.0 -17.5   \n",
       "1  GHCND:FI000007501  SODANKYLA-AWS-FI  19080102 -10.0   6.0 -26.0 -10.0   \n",
       "2  GHCND:FI000007501  SODANKYLA-AWS-FI  19080103 -10.0   7.0 -27.0 -10.0   \n",
       "3  GHCND:FI000007501  SODANKYLA-AWS-FI  19080104 -15.0  -3.0 -27.0 -15.0   \n",
       "4  GHCND:FI000007501  SODANKYLA-AWS-FI  19080105 -16.0   4.0 -36.0 -16.0   \n",
       "\n",
       "      TAVG_C     TMAX_C     TMIN_C      AVG_C  \n",
       "0 -27.500000 -16.666667 -38.333333 -27.500000  \n",
       "1 -23.333333 -14.444444 -32.222222 -23.333333  \n",
       "2 -23.333333 -13.888889 -32.777778 -23.333333  \n",
       "3 -26.111111 -19.444444 -32.777778 -26.111111  \n",
       "4 -26.666667 -15.555556 -37.777778 -26.666667  "
      ]
     },
     "execution_count": 159,
     "metadata": {},
     "output_type": "execute_result"
    }
   ],
   "source": [
    "\"\"\"Function to convert Fahrenheit temperature into Celsius.\n",
    "\n",
    "    Parameters:\n",
    "        temp_fahrenheit: int | float\n",
    "            Input temperature in Fahrenheit (should be a number)\n",
    "\n",
    "    Returns:\n",
    "        Temperature in Celsius (float)\n",
    "    \n",
    "    Author:\n",
    "        Henna Ylimaa - 8.3.2022\n",
    "\"\"\"\n",
    "# function that converts fahrenheits to celsius\n",
    "# one value in fahrenheit is given to the funtion\n",
    "def fahr_to_celsius(temp_fahrenheit):\n",
    "    \n",
    "    # converts temp_fahrenheit to celsius\n",
    "    converted_temp = (temp_fahrenheit - 32) / 1.8\n",
    "    \n",
    "    # converted_temp that have the celsius value is returned\n",
    "    return converted_temp\n",
    "\n",
    "data[\"TAVG_C\"] = data[\"TAVG\"].apply(fahr_to_celsius)\n",
    "data[\"TMAX_C\"] = data[\"TMAX\"].apply(fahr_to_celsius)\n",
    "data[\"TMIN_C\"] = data[\"TMIN\"].apply(fahr_to_celsius)\n",
    "data[\"AVG_C\"] = data[\"AVG\"].apply(fahr_to_celsius)\n",
    "data.head()"
   ]
  },
  {
   "cell_type": "markdown",
   "metadata": {},
   "source": [
    "4. Calculate seasonal average temperatures for each season in every year (e.g., Winter 1909, Spring 1909, Summer 1909, ...)"
   ]
  },
  {
   "cell_type": "code",
   "execution_count": 160,
   "metadata": {},
   "outputs": [],
   "source": [
    "data.loc[:,'DATE'] = pd.to_datetime(data['DATE'], format='%Y%m%d')\n",
    "# season column\n",
    "def season_from_dt(date):\n",
    "    if date.month in (12, 1, 2):\n",
    "        return 1\n",
    "    elif date.month in (3, 4, 5):\n",
    "        return 2\n",
    "    elif date.month in (6, 7, 8):\n",
    "        return 3\n",
    "    elif date.month in (9, 10, 11):\n",
    "        return 4\n",
    "data['season'] = data['DATE'].apply(season_from_dt)\n",
    "data['year'] = pd.DatetimeIndex(data['DATE']).year\n",
    "seasonal_averages = data.groupby(['year', 'season'], as_index=False)['TAVG_C'].mean()"
   ]
  },
  {
   "cell_type": "markdown",
   "metadata": {},
   "source": [
    "5. Calculate seasonal average temperatures for the reference period 1951-1980 (e.g., 4 values in total, one for each season)"
   ]
  },
  {
   "cell_type": "code",
   "execution_count": 161,
   "metadata": {},
   "outputs": [
    {
     "data": {
      "text/html": [
       "<div>\n",
       "<style scoped>\n",
       "    .dataframe tbody tr th:only-of-type {\n",
       "        vertical-align: middle;\n",
       "    }\n",
       "\n",
       "    .dataframe tbody tr th {\n",
       "        vertical-align: top;\n",
       "    }\n",
       "\n",
       "    .dataframe thead th {\n",
       "        text-align: right;\n",
       "    }\n",
       "</style>\n",
       "<table border=\"1\" class=\"dataframe\">\n",
       "  <thead>\n",
       "    <tr style=\"text-align: right;\">\n",
       "      <th></th>\n",
       "      <th>season</th>\n",
       "      <th>ref_temp</th>\n",
       "    </tr>\n",
       "  </thead>\n",
       "  <tbody>\n",
       "    <tr>\n",
       "      <th>0</th>\n",
       "      <td>1</td>\n",
       "      <td>-13.553475</td>\n",
       "    </tr>\n",
       "    <tr>\n",
       "      <th>1</th>\n",
       "      <td>2</td>\n",
       "      <td>-2.338516</td>\n",
       "    </tr>\n",
       "    <tr>\n",
       "      <th>2</th>\n",
       "      <td>3</td>\n",
       "      <td>12.400262</td>\n",
       "    </tr>\n",
       "    <tr>\n",
       "      <th>3</th>\n",
       "      <td>4</td>\n",
       "      <td>-0.816010</td>\n",
       "    </tr>\n",
       "  </tbody>\n",
       "</table>\n",
       "</div>"
      ],
      "text/plain": [
       "   season   ref_temp\n",
       "0       1 -13.553475\n",
       "1       2  -2.338516\n",
       "2       3  12.400262\n",
       "3       4  -0.816010"
      ]
     },
     "execution_count": 161,
     "metadata": {},
     "output_type": "execute_result"
    }
   ],
   "source": [
    "selection = seasonal_averages.loc[(seasonal_averages[\"year\"] >= 1951) & (seasonal_averages[\"year\"] < 1981)]\n",
    "reference_periods = selection.groupby('season', as_index=False)['TAVG_C'].mean()\n",
    "reference_periods.rename(columns={'TAVG_C': 'ref_temp'}, inplace=True)\n",
    "reference_periods.head()"
   ]
  },
  {
   "cell_type": "markdown",
   "metadata": {},
   "source": [
    "6. Calculate seasonal temperature anomalies for each year"
   ]
  },
  {
   "cell_type": "code",
   "execution_count": 163,
   "metadata": {},
   "outputs": [
    {
     "data": {
      "text/html": [
       "<div>\n",
       "<style scoped>\n",
       "    .dataframe tbody tr th:only-of-type {\n",
       "        vertical-align: middle;\n",
       "    }\n",
       "\n",
       "    .dataframe tbody tr th {\n",
       "        vertical-align: top;\n",
       "    }\n",
       "\n",
       "    .dataframe thead th {\n",
       "        text-align: right;\n",
       "    }\n",
       "</style>\n",
       "<table border=\"1\" class=\"dataframe\">\n",
       "  <thead>\n",
       "    <tr style=\"text-align: right;\">\n",
       "      <th></th>\n",
       "      <th>year</th>\n",
       "      <th>season</th>\n",
       "      <th>TAVG_C</th>\n",
       "      <th>ref_temp</th>\n",
       "      <th>diff</th>\n",
       "    </tr>\n",
       "  </thead>\n",
       "  <tbody>\n",
       "    <tr>\n",
       "      <th>0</th>\n",
       "      <td>1908</td>\n",
       "      <td>1</td>\n",
       "      <td>-12.330779</td>\n",
       "      <td>-13.553475</td>\n",
       "      <td>1.222696</td>\n",
       "    </tr>\n",
       "    <tr>\n",
       "      <th>113</th>\n",
       "      <td>1908</td>\n",
       "      <td>2</td>\n",
       "      <td>-2.346743</td>\n",
       "      <td>-2.338516</td>\n",
       "      <td>-0.008227</td>\n",
       "    </tr>\n",
       "    <tr>\n",
       "      <th>226</th>\n",
       "      <td>1908</td>\n",
       "      <td>3</td>\n",
       "      <td>11.425926</td>\n",
       "      <td>12.400262</td>\n",
       "      <td>-0.974336</td>\n",
       "    </tr>\n",
       "    <tr>\n",
       "      <th>339</th>\n",
       "      <td>1908</td>\n",
       "      <td>4</td>\n",
       "      <td>-1.859217</td>\n",
       "      <td>-0.816010</td>\n",
       "      <td>-1.043207</td>\n",
       "    </tr>\n",
       "    <tr>\n",
       "      <th>1</th>\n",
       "      <td>1909</td>\n",
       "      <td>1</td>\n",
       "      <td>-11.580933</td>\n",
       "      <td>-13.553475</td>\n",
       "      <td>1.972543</td>\n",
       "    </tr>\n",
       "  </tbody>\n",
       "</table>\n",
       "</div>"
      ],
      "text/plain": [
       "     year  season     TAVG_C   ref_temp      diff\n",
       "0    1908       1 -12.330779 -13.553475  1.222696\n",
       "113  1908       2  -2.346743  -2.338516 -0.008227\n",
       "226  1908       3  11.425926  12.400262 -0.974336\n",
       "339  1908       4  -1.859217  -0.816010 -1.043207\n",
       "1    1909       1 -11.580933 -13.553475  1.972543"
      ]
     },
     "execution_count": 163,
     "metadata": {},
     "output_type": "execute_result"
    }
   ],
   "source": [
    "# merges reference_temp's information based on month columns values\n",
    "seasonal_anomalies = seasonal_averages.merge(reference_periods, on = 'season')\n",
    "\n",
    "# calculates difference of TAVG_C and ref_temp to column diff\n",
    "seasonal_anomalies['diff'] = seasonal_anomalies['TAVG_C'] - seasonal_anomalies['ref_temp']\n",
    "seasonal_anomalies = seasonal_anomalies.sort_values(['year', 'season'])\n",
    "seasonal_anomalies.head()"
   ]
  },
  {
   "cell_type": "markdown",
   "metadata": {},
   "source": [
    "7. Plot the data as shown in the example above"
   ]
  },
  {
   "cell_type": "code",
   "execution_count": null,
   "metadata": {},
   "outputs": [],
   "source": []
  }
 ],
 "metadata": {
  "kernelspec": {
   "display_name": "Python 3 (ipykernel)",
   "language": "python",
   "name": "python3"
  },
  "language_info": {
   "codemirror_mode": {
    "name": "ipython",
    "version": 3
   },
   "file_extension": ".py",
   "mimetype": "text/x-python",
   "name": "python",
   "nbconvert_exporter": "python",
   "pygments_lexer": "ipython3",
   "version": "3.8.10"
  }
 },
 "nbformat": 4,
 "nbformat_minor": 4
}
